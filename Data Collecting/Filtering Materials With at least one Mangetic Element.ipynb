{
 "cells": [
  {
   "cell_type": "code",
   "execution_count": null,
   "id": "10343527",
   "metadata": {},
   "outputs": [],
   "source": [
    "#Making a filtered dataset of magnetic materials with magnetic elements\n",
    "import pandas as pd\n",
    "\n",
    "# Load your full dataset\n",
    "df = pd.read_csv(\"All Data Imported.csv\")\n",
    "\n",
    "# Define elements of interest\n",
    "transition_metals = {'Sc', 'Ti', 'V', 'Cr', 'Mn', 'Fe', 'Co', 'Ni', 'Cu', 'Y',\n",
    "                     'Nb', 'Mo', 'Ru', 'Rh', 'Re', 'Os', 'Ir', 'Pt'}\n",
    "lanthanides = {'Ce', 'Pr', 'Nd', 'Sm', 'Eu', 'Gd', 'Tb', 'Dy', 'Ho', 'Er', 'Tm', 'Yb'}\n",
    "actinides = {'Th', 'U', 'Np', 'Pu'}\n",
    "\n",
    "\n",
    "\n",
    "\n",
    "target_elements = transition_metals | lanthanides | actinides\n",
    "\n",
    "# Helper function to parse elements column\n",
    "def parse_elements(val):\n",
    "    if pd.isna(val):\n",
    "        return []\n",
    "    return [e.strip().split()[-1] for e in str(val).strip(\"[]\").split(\",\")]\n",
    "\n",
    "# Apply element parser\n",
    "df[\"parsed_elements\"] = df[\"elements\"].apply(parse_elements)\n",
    "\n",
    "# Filter rows where any element is in the target set\n",
    "filtered_df = df[df[\"parsed_elements\"].apply(lambda elist: any(e in target_elements for e in elist))]\n",
    "\n",
    "# Save result\n",
    "filtered_df.to_csv(\"filtered_magnetic_with_heavy_elements.csv\", index=False)\n",
    "print(\"Saved filtered file as 'filtered_magnetic_with_heavy_elements.csv'\")\n"
   ]
  }
 ],
 "metadata": {
  "language_info": {
   "name": "python"
  }
 },
 "nbformat": 4,
 "nbformat_minor": 5
}
