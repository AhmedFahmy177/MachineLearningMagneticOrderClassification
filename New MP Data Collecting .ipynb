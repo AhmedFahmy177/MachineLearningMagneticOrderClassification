{
 "cells": [
  {
   "cell_type": "code",
   "execution_count": null,
   "id": "c4c37684",
   "metadata": {},
   "outputs": [
    {
     "data": {
      "application/vnd.jupyter.widget-view+json": {
       "model_id": "f322abe8bbba446c904aabe914410b4f",
       "version_major": 2,
       "version_minor": 0
      },
      "text/plain": [
       "Retrieving SummaryDoc documents:   0%|          | 0/100 [00:00<?, ?it/s]"
      ]
     },
     "metadata": {},
     "output_type": "display_data"
    },
    {
     "name": "stderr",
     "output_type": "stream",
     "text": [
      "/tmp/ipykernel_7380/4144080899.py:19: DeprecationWarning: Accessing magnetism data through MPRester.magnetism is deprecated. Please use MPRester.materials.magnetism instead.\n",
      "  mag_data = mpr.magnetism.get_data_by_id(doc.material_id)\n",
      "/tmp/ipykernel_7380/4144080899.py:19: DeprecationWarning: get_data_by_id is deprecated and will be removed soon. Please use the search method instead.\n",
      "  mag_data = mpr.magnetism.get_data_by_id(doc.material_id)\n"
     ]
    },
    {
     "data": {
      "application/vnd.jupyter.widget-view+json": {
       "model_id": "662e6c86b87b4f90a47a2bf4c67b099b",
       "version_major": 2,
       "version_minor": 0
      },
      "text/plain": [
       "Retrieving MagnetismDoc documents:   0%|          | 0/1 [00:00<?, ?it/s]"
      ]
     },
     "metadata": {},
     "output_type": "display_data"
    },
    {
     "data": {
      "application/vnd.jupyter.widget-view+json": {
       "model_id": "c1d14d32488e4f46a5f1a489ae24b91b",
       "version_major": 2,
       "version_minor": 0
      },
      "text/plain": [
       "Retrieving MagnetismDoc documents:   0%|          | 0/1 [00:00<?, ?it/s]"
      ]
     },
     "metadata": {},
     "output_type": "display_data"
    },
    {
     "data": {
      "application/vnd.jupyter.widget-view+json": {
       "model_id": "9cbe6e100ebe4bafa04eca166fc6688c",
       "version_major": 2,
       "version_minor": 0
      },
      "text/plain": [
       "Retrieving MagnetismDoc documents:   0%|          | 0/1 [00:00<?, ?it/s]"
      ]
     },
     "metadata": {},
     "output_type": "display_data"
    },
    {
     "data": {
      "application/vnd.jupyter.widget-view+json": {
       "model_id": "237770c8a6584bd89f3a518e56decc40",
       "version_major": 2,
       "version_minor": 0
      },
      "text/plain": [
       "Retrieving MagnetismDoc documents:   0%|          | 0/1 [00:00<?, ?it/s]"
      ]
     },
     "metadata": {},
     "output_type": "display_data"
    },
    {
     "data": {
      "application/vnd.jupyter.widget-view+json": {
       "model_id": "ba61c46d9fa741c6b0fb266cb65c1b76",
       "version_major": 2,
       "version_minor": 0
      },
      "text/plain": [
       "Retrieving MagnetismDoc documents:   0%|          | 0/1 [00:00<?, ?it/s]"
      ]
     },
     "metadata": {},
     "output_type": "display_data"
    },
    {
     "data": {
      "application/vnd.jupyter.widget-view+json": {
       "model_id": "630528ffe8be4a768c38866e499fdf70",
       "version_major": 2,
       "version_minor": 0
      },
      "text/plain": [
       "Retrieving MagnetismDoc documents:   0%|          | 0/1 [00:00<?, ?it/s]"
      ]
     },
     "metadata": {},
     "output_type": "display_data"
    },
    {
     "data": {
      "application/vnd.jupyter.widget-view+json": {
       "model_id": "3054fcbd939749e8bce597be61fda209",
       "version_major": 2,
       "version_minor": 0
      },
      "text/plain": [
       "Retrieving MagnetismDoc documents:   0%|          | 0/1 [00:00<?, ?it/s]"
      ]
     },
     "metadata": {},
     "output_type": "display_data"
    },
    {
     "data": {
      "application/vnd.jupyter.widget-view+json": {
       "model_id": "e34e508aa71449679d92352fa7ed0fe2",
       "version_major": 2,
       "version_minor": 0
      },
      "text/plain": [
       "Retrieving MagnetismDoc documents:   0%|          | 0/1 [00:00<?, ?it/s]"
      ]
     },
     "metadata": {},
     "output_type": "display_data"
    },
    {
     "data": {
      "application/vnd.jupyter.widget-view+json": {
       "model_id": "57fa109d1d024d37aede81685c2d7a58",
       "version_major": 2,
       "version_minor": 0
      },
      "text/plain": [
       "Retrieving MagnetismDoc documents:   0%|          | 0/1 [00:00<?, ?it/s]"
      ]
     },
     "metadata": {},
     "output_type": "display_data"
    },
    {
     "data": {
      "application/vnd.jupyter.widget-view+json": {
       "model_id": "5487c8f6c27f42e2980261a84e29c5e4",
       "version_major": 2,
       "version_minor": 0
      },
      "text/plain": [
       "Retrieving MagnetismDoc documents:   0%|          | 0/1 [00:00<?, ?it/s]"
      ]
     },
     "metadata": {},
     "output_type": "display_data"
    },
    {
     "data": {
      "application/vnd.jupyter.widget-view+json": {
       "model_id": "ee085bf8d0c54d819bab0d6dc7c2027d",
       "version_major": 2,
       "version_minor": 0
      },
      "text/plain": [
       "Retrieving MagnetismDoc documents:   0%|          | 0/1 [00:00<?, ?it/s]"
      ]
     },
     "metadata": {},
     "output_type": "display_data"
    },
    {
     "data": {
      "application/vnd.jupyter.widget-view+json": {
       "model_id": "e9ee7366938b406cb9377952d0106367",
       "version_major": 2,
       "version_minor": 0
      },
      "text/plain": [
       "Retrieving MagnetismDoc documents:   0%|          | 0/1 [00:00<?, ?it/s]"
      ]
     },
     "metadata": {},
     "output_type": "display_data"
    },
    {
     "data": {
      "application/vnd.jupyter.widget-view+json": {
       "model_id": "296f2e44d76f4f36be18ae71a24a3bf4",
       "version_major": 2,
       "version_minor": 0
      },
      "text/plain": [
       "Retrieving MagnetismDoc documents:   0%|          | 0/1 [00:00<?, ?it/s]"
      ]
     },
     "metadata": {},
     "output_type": "display_data"
    },
    {
     "data": {
      "application/vnd.jupyter.widget-view+json": {
       "model_id": "434caf57fca5452aac694ba208ab71e9",
       "version_major": 2,
       "version_minor": 0
      },
      "text/plain": [
       "Retrieving MagnetismDoc documents:   0%|          | 0/1 [00:00<?, ?it/s]"
      ]
     },
     "metadata": {},
     "output_type": "display_data"
    },
    {
     "data": {
      "application/vnd.jupyter.widget-view+json": {
       "model_id": "74e71307363b4c4fb32e319ef6de1313",
       "version_major": 2,
       "version_minor": 0
      },
      "text/plain": [
       "Retrieving MagnetismDoc documents:   0%|          | 0/1 [00:00<?, ?it/s]"
      ]
     },
     "metadata": {},
     "output_type": "display_data"
    },
    {
     "data": {
      "application/vnd.jupyter.widget-view+json": {
       "model_id": "3470ad10bb004d9ebd1287c67bd67e69",
       "version_major": 2,
       "version_minor": 0
      },
      "text/plain": [
       "Retrieving MagnetismDoc documents:   0%|          | 0/1 [00:00<?, ?it/s]"
      ]
     },
     "metadata": {},
     "output_type": "display_data"
    },
    {
     "data": {
      "application/vnd.jupyter.widget-view+json": {
       "model_id": "340a27d6685041a9a3668c41f1d157fb",
       "version_major": 2,
       "version_minor": 0
      },
      "text/plain": [
       "Retrieving MagnetismDoc documents:   0%|          | 0/1 [00:00<?, ?it/s]"
      ]
     },
     "metadata": {},
     "output_type": "display_data"
    },
    {
     "data": {
      "application/vnd.jupyter.widget-view+json": {
       "model_id": "51581124ff4e4ff884605f8283cfc0ee",
       "version_major": 2,
       "version_minor": 0
      },
      "text/plain": [
       "Retrieving MagnetismDoc documents:   0%|          | 0/1 [00:00<?, ?it/s]"
      ]
     },
     "metadata": {},
     "output_type": "display_data"
    },
    {
     "data": {
      "application/vnd.jupyter.widget-view+json": {
       "model_id": "476230bd8728466085d6743eeabd3689",
       "version_major": 2,
       "version_minor": 0
      },
      "text/plain": [
       "Retrieving MagnetismDoc documents:   0%|          | 0/1 [00:00<?, ?it/s]"
      ]
     },
     "metadata": {},
     "output_type": "display_data"
    },
    {
     "data": {
      "application/vnd.jupyter.widget-view+json": {
       "model_id": "670bcacc119a46b7b1d587c9ad175e87",
       "version_major": 2,
       "version_minor": 0
      },
      "text/plain": [
       "Retrieving MagnetismDoc documents:   0%|          | 0/1 [00:00<?, ?it/s]"
      ]
     },
     "metadata": {},
     "output_type": "display_data"
    },
    {
     "data": {
      "application/vnd.jupyter.widget-view+json": {
       "model_id": "4f856016f64244a0b02c9c1cc00c9c0e",
       "version_major": 2,
       "version_minor": 0
      },
      "text/plain": [
       "Retrieving MagnetismDoc documents:   0%|          | 0/1 [00:00<?, ?it/s]"
      ]
     },
     "metadata": {},
     "output_type": "display_data"
    },
    {
     "data": {
      "application/vnd.jupyter.widget-view+json": {
       "model_id": "4803b4fc82974ac6bfb835a589a692fb",
       "version_major": 2,
       "version_minor": 0
      },
      "text/plain": [
       "Retrieving MagnetismDoc documents:   0%|          | 0/1 [00:00<?, ?it/s]"
      ]
     },
     "metadata": {},
     "output_type": "display_data"
    },
    {
     "data": {
      "application/vnd.jupyter.widget-view+json": {
       "model_id": "6ac466542a234785b409347b6c24be3e",
       "version_major": 2,
       "version_minor": 0
      },
      "text/plain": [
       "Retrieving MagnetismDoc documents:   0%|          | 0/1 [00:00<?, ?it/s]"
      ]
     },
     "metadata": {},
     "output_type": "display_data"
    },
    {
     "data": {
      "application/vnd.jupyter.widget-view+json": {
       "model_id": "0f90a8582d9c4232aaf684c25c51b596",
       "version_major": 2,
       "version_minor": 0
      },
      "text/plain": [
       "Retrieving MagnetismDoc documents:   0%|          | 0/1 [00:00<?, ?it/s]"
      ]
     },
     "metadata": {},
     "output_type": "display_data"
    },
    {
     "data": {
      "application/vnd.jupyter.widget-view+json": {
       "model_id": "e661a4bcfb9a4a1bab0df2d16ab076f4",
       "version_major": 2,
       "version_minor": 0
      },
      "text/plain": [
       "Retrieving MagnetismDoc documents:   0%|          | 0/1 [00:00<?, ?it/s]"
      ]
     },
     "metadata": {},
     "output_type": "display_data"
    },
    {
     "data": {
      "application/vnd.jupyter.widget-view+json": {
       "model_id": "fae0928364e14a8fb8596a4bf96d1406",
       "version_major": 2,
       "version_minor": 0
      },
      "text/plain": [
       "Retrieving MagnetismDoc documents:   0%|          | 0/1 [00:00<?, ?it/s]"
      ]
     },
     "metadata": {},
     "output_type": "display_data"
    },
    {
     "data": {
      "application/vnd.jupyter.widget-view+json": {
       "model_id": "5587db151d234c08818498a4156f82c9",
       "version_major": 2,
       "version_minor": 0
      },
      "text/plain": [
       "Retrieving MagnetismDoc documents:   0%|          | 0/1 [00:00<?, ?it/s]"
      ]
     },
     "metadata": {},
     "output_type": "display_data"
    },
    {
     "data": {
      "application/vnd.jupyter.widget-view+json": {
       "model_id": "99a749227a3b448ab0536bf50f52c87a",
       "version_major": 2,
       "version_minor": 0
      },
      "text/plain": [
       "Retrieving MagnetismDoc documents:   0%|          | 0/1 [00:00<?, ?it/s]"
      ]
     },
     "metadata": {},
     "output_type": "display_data"
    },
    {
     "data": {
      "application/vnd.jupyter.widget-view+json": {
       "model_id": "367fedd4d8594197a4545fabc2123adb",
       "version_major": 2,
       "version_minor": 0
      },
      "text/plain": [
       "Retrieving MagnetismDoc documents:   0%|          | 0/1 [00:00<?, ?it/s]"
      ]
     },
     "metadata": {},
     "output_type": "display_data"
    },
    {
     "data": {
      "application/vnd.jupyter.widget-view+json": {
       "model_id": "7d73c92d44cc440781c12878e8ad06ad",
       "version_major": 2,
       "version_minor": 0
      },
      "text/plain": [
       "Retrieving MagnetismDoc documents:   0%|          | 0/1 [00:00<?, ?it/s]"
      ]
     },
     "metadata": {},
     "output_type": "display_data"
    },
    {
     "data": {
      "application/vnd.jupyter.widget-view+json": {
       "model_id": "a4047017b36b40daa2083317cd4aa06f",
       "version_major": 2,
       "version_minor": 0
      },
      "text/plain": [
       "Retrieving MagnetismDoc documents:   0%|          | 0/1 [00:00<?, ?it/s]"
      ]
     },
     "metadata": {},
     "output_type": "display_data"
    },
    {
     "data": {
      "application/vnd.jupyter.widget-view+json": {
       "model_id": "4e5d7cd8b66b439ca4f5f9daa54b80d0",
       "version_major": 2,
       "version_minor": 0
      },
      "text/plain": [
       "Retrieving MagnetismDoc documents:   0%|          | 0/1 [00:00<?, ?it/s]"
      ]
     },
     "metadata": {},
     "output_type": "display_data"
    },
    {
     "data": {
      "application/vnd.jupyter.widget-view+json": {
       "model_id": "576742e7ce624299bc4dc86572160743",
       "version_major": 2,
       "version_minor": 0
      },
      "text/plain": [
       "Retrieving MagnetismDoc documents:   0%|          | 0/1 [00:00<?, ?it/s]"
      ]
     },
     "metadata": {},
     "output_type": "display_data"
    },
    {
     "data": {
      "application/vnd.jupyter.widget-view+json": {
       "model_id": "be5db47d36ec4ef4b36104315cc404f0",
       "version_major": 2,
       "version_minor": 0
      },
      "text/plain": [
       "Retrieving MagnetismDoc documents:   0%|          | 0/1 [00:00<?, ?it/s]"
      ]
     },
     "metadata": {},
     "output_type": "display_data"
    },
    {
     "data": {
      "application/vnd.jupyter.widget-view+json": {
       "model_id": "584bf73167854e739528ac52fe28de1a",
       "version_major": 2,
       "version_minor": 0
      },
      "text/plain": [
       "Retrieving MagnetismDoc documents:   0%|          | 0/1 [00:00<?, ?it/s]"
      ]
     },
     "metadata": {},
     "output_type": "display_data"
    },
    {
     "data": {
      "application/vnd.jupyter.widget-view+json": {
       "model_id": "3140446ac83046ec9704cc7befaf19d6",
       "version_major": 2,
       "version_minor": 0
      },
      "text/plain": [
       "Retrieving MagnetismDoc documents:   0%|          | 0/1 [00:00<?, ?it/s]"
      ]
     },
     "metadata": {},
     "output_type": "display_data"
    },
    {
     "data": {
      "application/vnd.jupyter.widget-view+json": {
       "model_id": "e900fa562be649eb98342f64a170a85d",
       "version_major": 2,
       "version_minor": 0
      },
      "text/plain": [
       "Retrieving MagnetismDoc documents:   0%|          | 0/1 [00:00<?, ?it/s]"
      ]
     },
     "metadata": {},
     "output_type": "display_data"
    },
    {
     "data": {
      "application/vnd.jupyter.widget-view+json": {
       "model_id": "e9a20f5f0701455e9d4a57f56be7bb2a",
       "version_major": 2,
       "version_minor": 0
      },
      "text/plain": [
       "Retrieving MagnetismDoc documents:   0%|          | 0/1 [00:00<?, ?it/s]"
      ]
     },
     "metadata": {},
     "output_type": "display_data"
    },
    {
     "data": {
      "application/vnd.jupyter.widget-view+json": {
       "model_id": "832f07e203b3481e9d07cf5165ee468c",
       "version_major": 2,
       "version_minor": 0
      },
      "text/plain": [
       "Retrieving MagnetismDoc documents:   0%|          | 0/1 [00:00<?, ?it/s]"
      ]
     },
     "metadata": {},
     "output_type": "display_data"
    },
    {
     "data": {
      "application/vnd.jupyter.widget-view+json": {
       "model_id": "5921e537553448a58e92fc78c7786405",
       "version_major": 2,
       "version_minor": 0
      },
      "text/plain": [
       "Retrieving MagnetismDoc documents:   0%|          | 0/1 [00:00<?, ?it/s]"
      ]
     },
     "metadata": {},
     "output_type": "display_data"
    },
    {
     "data": {
      "application/vnd.jupyter.widget-view+json": {
       "model_id": "c772b5c17b744879b50d6e408a123469",
       "version_major": 2,
       "version_minor": 0
      },
      "text/plain": [
       "Retrieving MagnetismDoc documents:   0%|          | 0/1 [00:00<?, ?it/s]"
      ]
     },
     "metadata": {},
     "output_type": "display_data"
    },
    {
     "data": {
      "application/vnd.jupyter.widget-view+json": {
       "model_id": "33211e687ceb45399107c4a86135cc69",
       "version_major": 2,
       "version_minor": 0
      },
      "text/plain": [
       "Retrieving MagnetismDoc documents:   0%|          | 0/1 [00:00<?, ?it/s]"
      ]
     },
     "metadata": {},
     "output_type": "display_data"
    },
    {
     "data": {
      "application/vnd.jupyter.widget-view+json": {
       "model_id": "cd55e6305ae040e6aedcce5544707038",
       "version_major": 2,
       "version_minor": 0
      },
      "text/plain": [
       "Retrieving MagnetismDoc documents:   0%|          | 0/1 [00:00<?, ?it/s]"
      ]
     },
     "metadata": {},
     "output_type": "display_data"
    },
    {
     "data": {
      "application/vnd.jupyter.widget-view+json": {
       "model_id": "e3d5739ef7ef4f4f97d450c3bcd999af",
       "version_major": 2,
       "version_minor": 0
      },
      "text/plain": [
       "Retrieving MagnetismDoc documents:   0%|          | 0/1 [00:00<?, ?it/s]"
      ]
     },
     "metadata": {},
     "output_type": "display_data"
    },
    {
     "data": {
      "application/vnd.jupyter.widget-view+json": {
       "model_id": "e5a8265f609a4132912ba574179452d8",
       "version_major": 2,
       "version_minor": 0
      },
      "text/plain": [
       "Retrieving MagnetismDoc documents:   0%|          | 0/1 [00:00<?, ?it/s]"
      ]
     },
     "metadata": {},
     "output_type": "display_data"
    },
    {
     "data": {
      "application/vnd.jupyter.widget-view+json": {
       "model_id": "401350612b2645ed8115947c4b80bdca",
       "version_major": 2,
       "version_minor": 0
      },
      "text/plain": [
       "Retrieving MagnetismDoc documents:   0%|          | 0/1 [00:00<?, ?it/s]"
      ]
     },
     "metadata": {},
     "output_type": "display_data"
    },
    {
     "data": {
      "application/vnd.jupyter.widget-view+json": {
       "model_id": "b36d95c2d28c45e19225ecf7607e421d",
       "version_major": 2,
       "version_minor": 0
      },
      "text/plain": [
       "Retrieving MagnetismDoc documents:   0%|          | 0/1 [00:00<?, ?it/s]"
      ]
     },
     "metadata": {},
     "output_type": "display_data"
    },
    {
     "data": {
      "application/vnd.jupyter.widget-view+json": {
       "model_id": "31b67b81cb4b485aa087e98122edade3",
       "version_major": 2,
       "version_minor": 0
      },
      "text/plain": [
       "Retrieving MagnetismDoc documents:   0%|          | 0/1 [00:00<?, ?it/s]"
      ]
     },
     "metadata": {},
     "output_type": "display_data"
    },
    {
     "data": {
      "application/vnd.jupyter.widget-view+json": {
       "model_id": "aeb9753e6e7944c6bf1cab305b1c0934",
       "version_major": 2,
       "version_minor": 0
      },
      "text/plain": [
       "Retrieving MagnetismDoc documents:   0%|          | 0/1 [00:00<?, ?it/s]"
      ]
     },
     "metadata": {},
     "output_type": "display_data"
    },
    {
     "data": {
      "application/vnd.jupyter.widget-view+json": {
       "model_id": "f0b1bdc13b31466f8dfdac31286083a1",
       "version_major": 2,
       "version_minor": 0
      },
      "text/plain": [
       "Retrieving MagnetismDoc documents:   0%|          | 0/1 [00:00<?, ?it/s]"
      ]
     },
     "metadata": {},
     "output_type": "display_data"
    },
    {
     "data": {
      "application/vnd.jupyter.widget-view+json": {
       "model_id": "ca78fda1be9d4297a463c436b82fe4bd",
       "version_major": 2,
       "version_minor": 0
      },
      "text/plain": [
       "Retrieving MagnetismDoc documents:   0%|          | 0/1 [00:00<?, ?it/s]"
      ]
     },
     "metadata": {},
     "output_type": "display_data"
    },
    {
     "data": {
      "application/vnd.jupyter.widget-view+json": {
       "model_id": "0f73a95d449142d09155ac88c5691636",
       "version_major": 2,
       "version_minor": 0
      },
      "text/plain": [
       "Retrieving MagnetismDoc documents:   0%|          | 0/1 [00:00<?, ?it/s]"
      ]
     },
     "metadata": {},
     "output_type": "display_data"
    },
    {
     "data": {
      "application/vnd.jupyter.widget-view+json": {
       "model_id": "1fea0d4d01aa45cb984246a45b79a369",
       "version_major": 2,
       "version_minor": 0
      },
      "text/plain": [
       "Retrieving MagnetismDoc documents:   0%|          | 0/1 [00:00<?, ?it/s]"
      ]
     },
     "metadata": {},
     "output_type": "display_data"
    },
    {
     "data": {
      "application/vnd.jupyter.widget-view+json": {
       "model_id": "5c5195f8b1b74050b238ec04dc09bd1d",
       "version_major": 2,
       "version_minor": 0
      },
      "text/plain": [
       "Retrieving MagnetismDoc documents:   0%|          | 0/1 [00:00<?, ?it/s]"
      ]
     },
     "metadata": {},
     "output_type": "display_data"
    },
    {
     "data": {
      "application/vnd.jupyter.widget-view+json": {
       "model_id": "b9a2084925f14dfd9dd3281b0ebe805c",
       "version_major": 2,
       "version_minor": 0
      },
      "text/plain": [
       "Retrieving MagnetismDoc documents:   0%|          | 0/1 [00:00<?, ?it/s]"
      ]
     },
     "metadata": {},
     "output_type": "display_data"
    },
    {
     "data": {
      "application/vnd.jupyter.widget-view+json": {
       "model_id": "f43d007173d241d18030213a064144c9",
       "version_major": 2,
       "version_minor": 0
      },
      "text/plain": [
       "Retrieving MagnetismDoc documents:   0%|          | 0/1 [00:00<?, ?it/s]"
      ]
     },
     "metadata": {},
     "output_type": "display_data"
    },
    {
     "data": {
      "application/vnd.jupyter.widget-view+json": {
       "model_id": "9bef6b26b58b436ca0366c9c9238691d",
       "version_major": 2,
       "version_minor": 0
      },
      "text/plain": [
       "Retrieving MagnetismDoc documents:   0%|          | 0/1 [00:00<?, ?it/s]"
      ]
     },
     "metadata": {},
     "output_type": "display_data"
    },
    {
     "data": {
      "application/vnd.jupyter.widget-view+json": {
       "model_id": "5757c225b6064e06b78d5425ba73060c",
       "version_major": 2,
       "version_minor": 0
      },
      "text/plain": [
       "Retrieving MagnetismDoc documents:   0%|          | 0/1 [00:00<?, ?it/s]"
      ]
     },
     "metadata": {},
     "output_type": "display_data"
    },
    {
     "data": {
      "application/vnd.jupyter.widget-view+json": {
       "model_id": "6ab0cd2fd3284970b010108c23e644a9",
       "version_major": 2,
       "version_minor": 0
      },
      "text/plain": [
       "Retrieving MagnetismDoc documents:   0%|          | 0/1 [00:00<?, ?it/s]"
      ]
     },
     "metadata": {},
     "output_type": "display_data"
    },
    {
     "data": {
      "application/vnd.jupyter.widget-view+json": {
       "model_id": "aae7ea30df054c04bc64f41ef36c5892",
       "version_major": 2,
       "version_minor": 0
      },
      "text/plain": [
       "Retrieving MagnetismDoc documents:   0%|          | 0/1 [00:00<?, ?it/s]"
      ]
     },
     "metadata": {},
     "output_type": "display_data"
    },
    {
     "data": {
      "application/vnd.jupyter.widget-view+json": {
       "model_id": "2c237a655daf42ce86a8aa3c81a4dd11",
       "version_major": 2,
       "version_minor": 0
      },
      "text/plain": [
       "Retrieving MagnetismDoc documents:   0%|          | 0/1 [00:00<?, ?it/s]"
      ]
     },
     "metadata": {},
     "output_type": "display_data"
    },
    {
     "data": {
      "application/vnd.jupyter.widget-view+json": {
       "model_id": "c5d8e11dd0ba4a12bfa79ebd634f2284",
       "version_major": 2,
       "version_minor": 0
      },
      "text/plain": [
       "Retrieving MagnetismDoc documents:   0%|          | 0/1 [00:00<?, ?it/s]"
      ]
     },
     "metadata": {},
     "output_type": "display_data"
    },
    {
     "data": {
      "application/vnd.jupyter.widget-view+json": {
       "model_id": "81197cf7e13d4c2ab64953710048472a",
       "version_major": 2,
       "version_minor": 0
      },
      "text/plain": [
       "Retrieving MagnetismDoc documents:   0%|          | 0/1 [00:00<?, ?it/s]"
      ]
     },
     "metadata": {},
     "output_type": "display_data"
    },
    {
     "data": {
      "application/vnd.jupyter.widget-view+json": {
       "model_id": "6cc38811b9684923ac2303a22780b441",
       "version_major": 2,
       "version_minor": 0
      },
      "text/plain": [
       "Retrieving MagnetismDoc documents:   0%|          | 0/1 [00:00<?, ?it/s]"
      ]
     },
     "metadata": {},
     "output_type": "display_data"
    },
    {
     "data": {
      "application/vnd.jupyter.widget-view+json": {
       "model_id": "73f409003d844d0695a891903ffb22a9",
       "version_major": 2,
       "version_minor": 0
      },
      "text/plain": [
       "Retrieving MagnetismDoc documents:   0%|          | 0/1 [00:00<?, ?it/s]"
      ]
     },
     "metadata": {},
     "output_type": "display_data"
    },
    {
     "data": {
      "application/vnd.jupyter.widget-view+json": {
       "model_id": "b331bf4160a34cb58aa8df5042de1285",
       "version_major": 2,
       "version_minor": 0
      },
      "text/plain": [
       "Retrieving MagnetismDoc documents:   0%|          | 0/1 [00:00<?, ?it/s]"
      ]
     },
     "metadata": {},
     "output_type": "display_data"
    },
    {
     "data": {
      "application/vnd.jupyter.widget-view+json": {
       "model_id": "9cf6779d2e654b6aa7f46fa5f8e1add2",
       "version_major": 2,
       "version_minor": 0
      },
      "text/plain": [
       "Retrieving MagnetismDoc documents:   0%|          | 0/1 [00:00<?, ?it/s]"
      ]
     },
     "metadata": {},
     "output_type": "display_data"
    },
    {
     "data": {
      "application/vnd.jupyter.widget-view+json": {
       "model_id": "61dc06d88660452895a931774ec61557",
       "version_major": 2,
       "version_minor": 0
      },
      "text/plain": [
       "Retrieving MagnetismDoc documents:   0%|          | 0/1 [00:00<?, ?it/s]"
      ]
     },
     "metadata": {},
     "output_type": "display_data"
    },
    {
     "data": {
      "application/vnd.jupyter.widget-view+json": {
       "model_id": "138eee88eb164409be8e2594e149171c",
       "version_major": 2,
       "version_minor": 0
      },
      "text/plain": [
       "Retrieving MagnetismDoc documents:   0%|          | 0/1 [00:00<?, ?it/s]"
      ]
     },
     "metadata": {},
     "output_type": "display_data"
    },
    {
     "data": {
      "application/vnd.jupyter.widget-view+json": {
       "model_id": "52d5a077b4b74ca68bef882043501644",
       "version_major": 2,
       "version_minor": 0
      },
      "text/plain": [
       "Retrieving MagnetismDoc documents:   0%|          | 0/1 [00:00<?, ?it/s]"
      ]
     },
     "metadata": {},
     "output_type": "display_data"
    },
    {
     "data": {
      "application/vnd.jupyter.widget-view+json": {
       "model_id": "9cd4a845d4684a97b27224781da6d9fd",
       "version_major": 2,
       "version_minor": 0
      },
      "text/plain": [
       "Retrieving MagnetismDoc documents:   0%|          | 0/1 [00:00<?, ?it/s]"
      ]
     },
     "metadata": {},
     "output_type": "display_data"
    },
    {
     "data": {
      "application/vnd.jupyter.widget-view+json": {
       "model_id": "ac3839df0a8a4bc1a4625cef59b76be2",
       "version_major": 2,
       "version_minor": 0
      },
      "text/plain": [
       "Retrieving MagnetismDoc documents:   0%|          | 0/1 [00:00<?, ?it/s]"
      ]
     },
     "metadata": {},
     "output_type": "display_data"
    },
    {
     "data": {
      "application/vnd.jupyter.widget-view+json": {
       "model_id": "566c42262de547e6b4c60ebd9f809e4c",
       "version_major": 2,
       "version_minor": 0
      },
      "text/plain": [
       "Retrieving MagnetismDoc documents:   0%|          | 0/1 [00:00<?, ?it/s]"
      ]
     },
     "metadata": {},
     "output_type": "display_data"
    },
    {
     "data": {
      "application/vnd.jupyter.widget-view+json": {
       "model_id": "ba3f0d995f7645ee9195fab6cc2434b0",
       "version_major": 2,
       "version_minor": 0
      },
      "text/plain": [
       "Retrieving MagnetismDoc documents:   0%|          | 0/1 [00:00<?, ?it/s]"
      ]
     },
     "metadata": {},
     "output_type": "display_data"
    },
    {
     "data": {
      "application/vnd.jupyter.widget-view+json": {
       "model_id": "377e103fce7043f4932e313199c6347d",
       "version_major": 2,
       "version_minor": 0
      },
      "text/plain": [
       "Retrieving MagnetismDoc documents:   0%|          | 0/1 [00:00<?, ?it/s]"
      ]
     },
     "metadata": {},
     "output_type": "display_data"
    },
    {
     "data": {
      "application/vnd.jupyter.widget-view+json": {
       "model_id": "784c7cd8fc3841be9f0e88c18e06b29a",
       "version_major": 2,
       "version_minor": 0
      },
      "text/plain": [
       "Retrieving MagnetismDoc documents:   0%|          | 0/1 [00:00<?, ?it/s]"
      ]
     },
     "metadata": {},
     "output_type": "display_data"
    },
    {
     "data": {
      "application/vnd.jupyter.widget-view+json": {
       "model_id": "7800079f0ba44e18963bddd88025a715",
       "version_major": 2,
       "version_minor": 0
      },
      "text/plain": [
       "Retrieving MagnetismDoc documents:   0%|          | 0/1 [00:00<?, ?it/s]"
      ]
     },
     "metadata": {},
     "output_type": "display_data"
    },
    {
     "data": {
      "application/vnd.jupyter.widget-view+json": {
       "model_id": "15e9f331c3ff4688bb7c627d54c2e6a0",
       "version_major": 2,
       "version_minor": 0
      },
      "text/plain": [
       "Retrieving MagnetismDoc documents:   0%|          | 0/1 [00:00<?, ?it/s]"
      ]
     },
     "metadata": {},
     "output_type": "display_data"
    },
    {
     "data": {
      "application/vnd.jupyter.widget-view+json": {
       "model_id": "7180305b56f24f7c8787f7b4a9d03f18",
       "version_major": 2,
       "version_minor": 0
      },
      "text/plain": [
       "Retrieving MagnetismDoc documents:   0%|          | 0/1 [00:00<?, ?it/s]"
      ]
     },
     "metadata": {},
     "output_type": "display_data"
    },
    {
     "data": {
      "application/vnd.jupyter.widget-view+json": {
       "model_id": "ab37fad41d9648459e319f55537529f7",
       "version_major": 2,
       "version_minor": 0
      },
      "text/plain": [
       "Retrieving MagnetismDoc documents:   0%|          | 0/1 [00:00<?, ?it/s]"
      ]
     },
     "metadata": {},
     "output_type": "display_data"
    },
    {
     "data": {
      "application/vnd.jupyter.widget-view+json": {
       "model_id": "162bc83e130a41fb8c6ded425ff7ae9e",
       "version_major": 2,
       "version_minor": 0
      },
      "text/plain": [
       "Retrieving MagnetismDoc documents:   0%|          | 0/1 [00:00<?, ?it/s]"
      ]
     },
     "metadata": {},
     "output_type": "display_data"
    },
    {
     "data": {
      "application/vnd.jupyter.widget-view+json": {
       "model_id": "67559b0ebc564a3f93824bec839b37ba",
       "version_major": 2,
       "version_minor": 0
      },
      "text/plain": [
       "Retrieving MagnetismDoc documents:   0%|          | 0/1 [00:00<?, ?it/s]"
      ]
     },
     "metadata": {},
     "output_type": "display_data"
    },
    {
     "data": {
      "application/vnd.jupyter.widget-view+json": {
       "model_id": "d96ce282b7dc4c898a78adac5ba57eff",
       "version_major": 2,
       "version_minor": 0
      },
      "text/plain": [
       "Retrieving MagnetismDoc documents:   0%|          | 0/1 [00:00<?, ?it/s]"
      ]
     },
     "metadata": {},
     "output_type": "display_data"
    },
    {
     "data": {
      "application/vnd.jupyter.widget-view+json": {
       "model_id": "d2b4b0308e0f469bbc9775b29908443a",
       "version_major": 2,
       "version_minor": 0
      },
      "text/plain": [
       "Retrieving MagnetismDoc documents:   0%|          | 0/1 [00:00<?, ?it/s]"
      ]
     },
     "metadata": {},
     "output_type": "display_data"
    },
    {
     "data": {
      "application/vnd.jupyter.widget-view+json": {
       "model_id": "37d3117f6e524d7685297af4918ccdde",
       "version_major": 2,
       "version_minor": 0
      },
      "text/plain": [
       "Retrieving MagnetismDoc documents:   0%|          | 0/1 [00:00<?, ?it/s]"
      ]
     },
     "metadata": {},
     "output_type": "display_data"
    },
    {
     "data": {
      "application/vnd.jupyter.widget-view+json": {
       "model_id": "2174905aac0b486c8485c599e1cb9bb1",
       "version_major": 2,
       "version_minor": 0
      },
      "text/plain": [
       "Retrieving MagnetismDoc documents:   0%|          | 0/1 [00:00<?, ?it/s]"
      ]
     },
     "metadata": {},
     "output_type": "display_data"
    },
    {
     "data": {
      "application/vnd.jupyter.widget-view+json": {
       "model_id": "460923f84adb448fb8cf3b5d02283058",
       "version_major": 2,
       "version_minor": 0
      },
      "text/plain": [
       "Retrieving MagnetismDoc documents:   0%|          | 0/1 [00:00<?, ?it/s]"
      ]
     },
     "metadata": {},
     "output_type": "display_data"
    },
    {
     "data": {
      "application/vnd.jupyter.widget-view+json": {
       "model_id": "941d7bd8c2a0463d82b1de7e5a53cad5",
       "version_major": 2,
       "version_minor": 0
      },
      "text/plain": [
       "Retrieving MagnetismDoc documents:   0%|          | 0/1 [00:00<?, ?it/s]"
      ]
     },
     "metadata": {},
     "output_type": "display_data"
    },
    {
     "data": {
      "application/vnd.jupyter.widget-view+json": {
       "model_id": "850c0f2979a84929bf3bdf6ea7f577a5",
       "version_major": 2,
       "version_minor": 0
      },
      "text/plain": [
       "Retrieving MagnetismDoc documents:   0%|          | 0/1 [00:00<?, ?it/s]"
      ]
     },
     "metadata": {},
     "output_type": "display_data"
    },
    {
     "data": {
      "application/vnd.jupyter.widget-view+json": {
       "model_id": "d2951f373696451dbf659d6c4d1f6f38",
       "version_major": 2,
       "version_minor": 0
      },
      "text/plain": [
       "Retrieving MagnetismDoc documents:   0%|          | 0/1 [00:00<?, ?it/s]"
      ]
     },
     "metadata": {},
     "output_type": "display_data"
    },
    {
     "data": {
      "application/vnd.jupyter.widget-view+json": {
       "model_id": "02bf2da075704364a1127dc4eb0b806a",
       "version_major": 2,
       "version_minor": 0
      },
      "text/plain": [
       "Retrieving MagnetismDoc documents:   0%|          | 0/1 [00:00<?, ?it/s]"
      ]
     },
     "metadata": {},
     "output_type": "display_data"
    },
    {
     "data": {
      "application/vnd.jupyter.widget-view+json": {
       "model_id": "339639511e324f2b979d6a70c24756be",
       "version_major": 2,
       "version_minor": 0
      },
      "text/plain": [
       "Retrieving MagnetismDoc documents:   0%|          | 0/1 [00:00<?, ?it/s]"
      ]
     },
     "metadata": {},
     "output_type": "display_data"
    },
    {
     "data": {
      "application/vnd.jupyter.widget-view+json": {
       "model_id": "57a39f3a5ee44fe0bdd3230561896f92",
       "version_major": 2,
       "version_minor": 0
      },
      "text/plain": [
       "Retrieving MagnetismDoc documents:   0%|          | 0/1 [00:00<?, ?it/s]"
      ]
     },
     "metadata": {},
     "output_type": "display_data"
    },
    {
     "data": {
      "application/vnd.jupyter.widget-view+json": {
       "model_id": "2aa681096ae849dfb00ededb568548a9",
       "version_major": 2,
       "version_minor": 0
      },
      "text/plain": [
       "Retrieving MagnetismDoc documents:   0%|          | 0/1 [00:00<?, ?it/s]"
      ]
     },
     "metadata": {},
     "output_type": "display_data"
    },
    {
     "data": {
      "application/vnd.jupyter.widget-view+json": {
       "model_id": "3189bf5ca82b4bfd92e1009a1f0ba1c0",
       "version_major": 2,
       "version_minor": 0
      },
      "text/plain": [
       "Retrieving MagnetismDoc documents:   0%|          | 0/1 [00:00<?, ?it/s]"
      ]
     },
     "metadata": {},
     "output_type": "display_data"
    },
    {
     "data": {
      "application/vnd.jupyter.widget-view+json": {
       "model_id": "a1052ffce5d944c9ae5158a93138274a",
       "version_major": 2,
       "version_minor": 0
      },
      "text/plain": [
       "Retrieving MagnetismDoc documents:   0%|          | 0/1 [00:00<?, ?it/s]"
      ]
     },
     "metadata": {},
     "output_type": "display_data"
    },
    {
     "data": {
      "application/vnd.jupyter.widget-view+json": {
       "model_id": "ac28302fe33c44df80cef7cbf9355a66",
       "version_major": 2,
       "version_minor": 0
      },
      "text/plain": [
       "Retrieving MagnetismDoc documents:   0%|          | 0/1 [00:00<?, ?it/s]"
      ]
     },
     "metadata": {},
     "output_type": "display_data"
    },
    {
     "data": {
      "application/vnd.jupyter.widget-view+json": {
       "model_id": "135a1248769b412da5e65c212556c048",
       "version_major": 2,
       "version_minor": 0
      },
      "text/plain": [
       "Retrieving MagnetismDoc documents:   0%|          | 0/1 [00:00<?, ?it/s]"
      ]
     },
     "metadata": {},
     "output_type": "display_data"
    },
    {
     "data": {
      "application/vnd.jupyter.widget-view+json": {
       "model_id": "748de4f8dff247c18315bbcf08310b02",
       "version_major": 2,
       "version_minor": 0
      },
      "text/plain": [
       "Retrieving MagnetismDoc documents:   0%|          | 0/1 [00:00<?, ?it/s]"
      ]
     },
     "metadata": {},
     "output_type": "display_data"
    },
    {
     "data": {
      "application/vnd.jupyter.widget-view+json": {
       "model_id": "7a6c206e75d54fdea1a5445699174c9c",
       "version_major": 2,
       "version_minor": 0
      },
      "text/plain": [
       "Retrieving MagnetismDoc documents:   0%|          | 0/1 [00:00<?, ?it/s]"
      ]
     },
     "metadata": {},
     "output_type": "display_data"
    },
    {
     "name": "stdout",
     "output_type": "stream",
     "text": [
      "Saved to new_magnetic_insulators.csv\n"
     ]
    }
   ],
   "source": [
    "#note: reduce num_chunks and chunk_size for faster results, but fewer materials will be returned\n",
    "from mp_api.client import MPRester\n",
    "import pandas as pd\n",
    "\n",
    "new_magnetic_insulators = []\n",
    "\n",
    "with MPRester(\"wPjLcbtxrHCBpdho9KRPeMsneJHX25kH\") as mpr:\n",
    "    docs = mpr.materials.summary.search(\n",
    "        band_gap=(0, None),  # all band gaps\n",
    "        fields=[\"material_id\",\"cbm\", \"vbm\",\"e_electronic\",\"energy_above_hull\", \"formula_pretty\", \"band_gap\", \"is_stable\", \"density_atomic\", \"nelements\",\"elements\",\"volume\",\"nsites\",\"composition\",\"chemsys\",\"density\",\"symmetry\",\"structure\",\"efermi\",\"is_gap_direct\",\"formation_energy_per_atom\",\"dos\",\"dos_energy_up\",\"dos_energy_down\",\"bulk_modulus\",\"shear_modulus\",\"universal_anisotropy\",\"surface_anisotropy\",\"e_electronic\",\"e_ionic\",\"e_total\"],\n",
    "        deprecated=False,\n",
    "        num_chunks=1500,\n",
    "        chunk_size=100\n",
    "    )\n",
    "\n",
    "    for doc in docs:\n",
    "        try:\n",
    "            mag_data = mpr.magnetism.get_data_by_id(doc.material_id)\n",
    "            if (\n",
    "                mag_data.ordering in [\"FM\", \"AFM\", \"FiM\",\"NM\"] \n",
    "            ):\n",
    "                new_magnetic_insulators.append({\n",
    "                    \"material_id\": doc.material_id,\n",
    "                    \"formula\": doc.formula_pretty,\n",
    "                    \"band_gap\": doc.band_gap,\n",
    "                    \"ordering\": mag_data.ordering,\n",
    "                    \"numberofelements\": doc.nelements,\n",
    "                    \"density_atomic\": doc.density_atomic,\n",
    "                    \"elements\": doc.elements,\n",
    "                    \"volume\": doc.volume,\n",
    "                    \"nsites\": doc.nsites,\n",
    "                    \"composition\": doc.composition,\n",
    "                    \"chemsys\": doc.chemsys,\n",
    "                    \"density\": doc.density,\n",
    "                    \"symmetry\": doc.symmetry,\n",
    "                    \"structure\": doc.structure,\n",
    "                    \"efermi\": doc.efermi,\n",
    "                    \"cbm\": doc.cbm,\n",
    "                    \"vbm\": doc.vbm,\n",
    "                    \"formation_energy_per_atom\": doc.formation_energy_per_atom,\n",
    "                   \"energy_above_hull\": doc.energy_above_hull,\"is_gap_direct\": doc.is_gap_direct, \"is_stable\": doc.is_stable,\n",
    "                    \n",
    "                    \n",
    "                  })\n",
    "        except:\n",
    "            continue  # skip materials with missing magnetism data\n",
    "\n",
    "# Save to CSV\n",
    "df = pd.DataFrame(new_magnetic_insulators)\n",
    "df.to_csv(\"new_magnetic_insulators.csv\", index=False)\n",
    "print(\"Saved to new_magnetic_insulators.csv\")\n"
   ]
  },
  {
   "cell_type": "code",
   "execution_count": 5,
   "id": "403cb2c0",
   "metadata": {},
   "outputs": [
    {
     "name": "stdout",
     "output_type": "stream",
     "text": [
      "Data Overview:\n"
     ]
    },
    {
     "data": {
      "text/html": [
       "<div>\n",
       "<style scoped>\n",
       "    .dataframe tbody tr th:only-of-type {\n",
       "        vertical-align: middle;\n",
       "    }\n",
       "\n",
       "    .dataframe tbody tr th {\n",
       "        vertical-align: top;\n",
       "    }\n",
       "\n",
       "    .dataframe thead th {\n",
       "        text-align: right;\n",
       "    }\n",
       "</style>\n",
       "<table border=\"1\" class=\"dataframe\">\n",
       "  <thead>\n",
       "    <tr style=\"text-align: right;\">\n",
       "      <th></th>\n",
       "      <th>material_id</th>\n",
       "      <th>formula</th>\n",
       "      <th>band_gap</th>\n",
       "      <th>ordering</th>\n",
       "      <th>numberofelements</th>\n",
       "      <th>density_atomic</th>\n",
       "      <th>elements</th>\n",
       "      <th>volume</th>\n",
       "      <th>nsites</th>\n",
       "      <th>composition</th>\n",
       "      <th>...</th>\n",
       "      <th>is_stable</th>\n",
       "      <th>dos</th>\n",
       "      <th>dos_energy_up</th>\n",
       "      <th>dos_energy_down</th>\n",
       "      <th>bulk_modulus</th>\n",
       "      <th>shear_modulus</th>\n",
       "      <th>universal_anisotropy</th>\n",
       "      <th>surface_anisotropy</th>\n",
       "      <th>e_ionic</th>\n",
       "      <th>e_total</th>\n",
       "    </tr>\n",
       "  </thead>\n",
       "  <tbody>\n",
       "    <tr>\n",
       "      <th>35</th>\n",
       "      <td>mp-860963</td>\n",
       "      <td>Ag2H4(SO4)3</td>\n",
       "      <td>2.8821</td>\n",
       "      <td>NM</td>\n",
       "      <td>4</td>\n",
       "      <td>12.586586</td>\n",
       "      <td>[Ag, H, O, S]</td>\n",
       "      <td>1057.273255</td>\n",
       "      <td>84</td>\n",
       "      <td>(Ag, H, S, O)</td>\n",
       "      <td>...</td>\n",
       "      <td>True</td>\n",
       "      <td>None</td>\n",
       "      <td>None</td>\n",
       "      <td>None</td>\n",
       "      <td>None</td>\n",
       "      <td>None</td>\n",
       "      <td>NaN</td>\n",
       "      <td>None</td>\n",
       "      <td>NaN</td>\n",
       "      <td>NaN</td>\n",
       "    </tr>\n",
       "    <tr>\n",
       "      <th>97</th>\n",
       "      <td>mp-562248</td>\n",
       "      <td>Ag3CS(NO2)3</td>\n",
       "      <td>2.1030</td>\n",
       "      <td>NM</td>\n",
       "      <td>5</td>\n",
       "      <td>14.739380</td>\n",
       "      <td>[Ag, C, N, O, S]</td>\n",
       "      <td>412.702651</td>\n",
       "      <td>28</td>\n",
       "      <td>(Ag, C, S, N, O)</td>\n",
       "      <td>...</td>\n",
       "      <td>False</td>\n",
       "      <td>total={'1': DosSummaryData(task_id=MPID(mp-176...</td>\n",
       "      <td>None</td>\n",
       "      <td>None</td>\n",
       "      <td>None</td>\n",
       "      <td>None</td>\n",
       "      <td>NaN</td>\n",
       "      <td>None</td>\n",
       "      <td>NaN</td>\n",
       "      <td>NaN</td>\n",
       "    </tr>\n",
       "    <tr>\n",
       "      <th>90</th>\n",
       "      <td>mp-555843</td>\n",
       "      <td>Ag3AsS3</td>\n",
       "      <td>1.6989</td>\n",
       "      <td>NM</td>\n",
       "      <td>3</td>\n",
       "      <td>24.345181</td>\n",
       "      <td>[Ag, As, S]</td>\n",
       "      <td>340.832528</td>\n",
       "      <td>14</td>\n",
       "      <td>(Ag, As, S)</td>\n",
       "      <td>...</td>\n",
       "      <td>False</td>\n",
       "      <td>total={'1': DosSummaryData(task_id=MPID(mp-166...</td>\n",
       "      <td>None</td>\n",
       "      <td>None</td>\n",
       "      <td>None</td>\n",
       "      <td>None</td>\n",
       "      <td>NaN</td>\n",
       "      <td>None</td>\n",
       "      <td>NaN</td>\n",
       "      <td>NaN</td>\n",
       "    </tr>\n",
       "    <tr>\n",
       "      <th>34</th>\n",
       "      <td>mp-690687</td>\n",
       "      <td>Ag2H2IOF</td>\n",
       "      <td>1.4591</td>\n",
       "      <td>NM</td>\n",
       "      <td>5</td>\n",
       "      <td>17.854606</td>\n",
       "      <td>[Ag, F, H, I, O]</td>\n",
       "      <td>249.964486</td>\n",
       "      <td>14</td>\n",
       "      <td>(Ag, H, I, O, F)</td>\n",
       "      <td>...</td>\n",
       "      <td>True</td>\n",
       "      <td>total={'1': DosSummaryData(task_id=MPID(mp-166...</td>\n",
       "      <td>None</td>\n",
       "      <td>None</td>\n",
       "      <td>None</td>\n",
       "      <td>None</td>\n",
       "      <td>NaN</td>\n",
       "      <td>None</td>\n",
       "      <td>3.464426</td>\n",
       "      <td>7.559580</td>\n",
       "    </tr>\n",
       "    <tr>\n",
       "      <th>14</th>\n",
       "      <td>mp-1183152</td>\n",
       "      <td>AcScO3</td>\n",
       "      <td>3.3847</td>\n",
       "      <td>NM</td>\n",
       "      <td>3</td>\n",
       "      <td>14.038360</td>\n",
       "      <td>[Ac, O, Sc]</td>\n",
       "      <td>70.191801</td>\n",
       "      <td>5</td>\n",
       "      <td>(Ac, Sc, O)</td>\n",
       "      <td>...</td>\n",
       "      <td>False</td>\n",
       "      <td>total={'1': DosSummaryData(task_id=MPID(mp-175...</td>\n",
       "      <td>None</td>\n",
       "      <td>None</td>\n",
       "      <td>None</td>\n",
       "      <td>None</td>\n",
       "      <td>NaN</td>\n",
       "      <td>None</td>\n",
       "      <td>NaN</td>\n",
       "      <td>NaN</td>\n",
       "    </tr>\n",
       "    <tr>\n",
       "      <th>26</th>\n",
       "      <td>mp-1196546</td>\n",
       "      <td>Ag2Ge(S2O7)3</td>\n",
       "      <td>2.8072</td>\n",
       "      <td>NM</td>\n",
       "      <td>4</td>\n",
       "      <td>14.137987</td>\n",
       "      <td>[Ag, Ge, O, S]</td>\n",
       "      <td>2544.837686</td>\n",
       "      <td>180</td>\n",
       "      <td>(Ag, Ge, S, O)</td>\n",
       "      <td>...</td>\n",
       "      <td>True</td>\n",
       "      <td>None</td>\n",
       "      <td>None</td>\n",
       "      <td>None</td>\n",
       "      <td>None</td>\n",
       "      <td>None</td>\n",
       "      <td>NaN</td>\n",
       "      <td>None</td>\n",
       "      <td>NaN</td>\n",
       "      <td>NaN</td>\n",
       "    </tr>\n",
       "    <tr>\n",
       "      <th>28</th>\n",
       "      <td>mp-861942</td>\n",
       "      <td>Ag2GePbS4</td>\n",
       "      <td>1.3699</td>\n",
       "      <td>NM</td>\n",
       "      <td>4</td>\n",
       "      <td>22.795343</td>\n",
       "      <td>[Ag, Ge, Pb, S]</td>\n",
       "      <td>364.725495</td>\n",
       "      <td>16</td>\n",
       "      <td>(Ag, Ge, Pb, S)</td>\n",
       "      <td>...</td>\n",
       "      <td>True</td>\n",
       "      <td>total={'1': DosSummaryData(task_id=MPID(mp-170...</td>\n",
       "      <td>None</td>\n",
       "      <td>None</td>\n",
       "      <td>None</td>\n",
       "      <td>None</td>\n",
       "      <td>NaN</td>\n",
       "      <td>None</td>\n",
       "      <td>20.660005</td>\n",
       "      <td>29.233129</td>\n",
       "    </tr>\n",
       "    <tr>\n",
       "      <th>83</th>\n",
       "      <td>mp-29163</td>\n",
       "      <td>Ag2TeS3</td>\n",
       "      <td>1.2999</td>\n",
       "      <td>NM</td>\n",
       "      <td>3</td>\n",
       "      <td>23.637257</td>\n",
       "      <td>[Ag, S, Te]</td>\n",
       "      <td>283.647090</td>\n",
       "      <td>12</td>\n",
       "      <td>(Ag, Te, S)</td>\n",
       "      <td>...</td>\n",
       "      <td>True</td>\n",
       "      <td>total={'1': DosSummaryData(task_id=MPID(mp-167...</td>\n",
       "      <td>None</td>\n",
       "      <td>None</td>\n",
       "      <td>None</td>\n",
       "      <td>None</td>\n",
       "      <td>NaN</td>\n",
       "      <td>None</td>\n",
       "      <td>4.726890</td>\n",
       "      <td>13.066767</td>\n",
       "    </tr>\n",
       "  </tbody>\n",
       "</table>\n",
       "<p>8 rows × 31 columns</p>\n",
       "</div>"
      ],
      "text/plain": [
       "   material_id       formula  band_gap ordering  numberofelements  \\\n",
       "35   mp-860963   Ag2H4(SO4)3    2.8821       NM                 4   \n",
       "97   mp-562248   Ag3CS(NO2)3    2.1030       NM                 5   \n",
       "90   mp-555843       Ag3AsS3    1.6989       NM                 3   \n",
       "34   mp-690687      Ag2H2IOF    1.4591       NM                 5   \n",
       "14  mp-1183152        AcScO3    3.3847       NM                 3   \n",
       "26  mp-1196546  Ag2Ge(S2O7)3    2.8072       NM                 4   \n",
       "28   mp-861942     Ag2GePbS4    1.3699       NM                 4   \n",
       "83    mp-29163       Ag2TeS3    1.2999       NM                 3   \n",
       "\n",
       "    density_atomic          elements       volume  nsites       composition  \\\n",
       "35       12.586586     [Ag, H, O, S]  1057.273255      84     (Ag, H, S, O)   \n",
       "97       14.739380  [Ag, C, N, O, S]   412.702651      28  (Ag, C, S, N, O)   \n",
       "90       24.345181       [Ag, As, S]   340.832528      14       (Ag, As, S)   \n",
       "34       17.854606  [Ag, F, H, I, O]   249.964486      14  (Ag, H, I, O, F)   \n",
       "14       14.038360       [Ac, O, Sc]    70.191801       5       (Ac, Sc, O)   \n",
       "26       14.137987    [Ag, Ge, O, S]  2544.837686     180    (Ag, Ge, S, O)   \n",
       "28       22.795343   [Ag, Ge, Pb, S]   364.725495      16   (Ag, Ge, Pb, S)   \n",
       "83       23.637257       [Ag, S, Te]   283.647090      12       (Ag, Te, S)   \n",
       "\n",
       "    ... is_stable                                                dos  \\\n",
       "35  ...      True                                               None   \n",
       "97  ...     False  total={'1': DosSummaryData(task_id=MPID(mp-176...   \n",
       "90  ...     False  total={'1': DosSummaryData(task_id=MPID(mp-166...   \n",
       "34  ...      True  total={'1': DosSummaryData(task_id=MPID(mp-166...   \n",
       "14  ...     False  total={'1': DosSummaryData(task_id=MPID(mp-175...   \n",
       "26  ...      True                                               None   \n",
       "28  ...      True  total={'1': DosSummaryData(task_id=MPID(mp-170...   \n",
       "83  ...      True  total={'1': DosSummaryData(task_id=MPID(mp-167...   \n",
       "\n",
       "   dos_energy_up dos_energy_down  bulk_modulus  shear_modulus  \\\n",
       "35          None            None          None           None   \n",
       "97          None            None          None           None   \n",
       "90          None            None          None           None   \n",
       "34          None            None          None           None   \n",
       "14          None            None          None           None   \n",
       "26          None            None          None           None   \n",
       "28          None            None          None           None   \n",
       "83          None            None          None           None   \n",
       "\n",
       "    universal_anisotropy  surface_anisotropy    e_ionic    e_total  \n",
       "35                   NaN                None        NaN        NaN  \n",
       "97                   NaN                None        NaN        NaN  \n",
       "90                   NaN                None        NaN        NaN  \n",
       "34                   NaN                None   3.464426   7.559580  \n",
       "14                   NaN                None        NaN        NaN  \n",
       "26                   NaN                None        NaN        NaN  \n",
       "28                   NaN                None  20.660005  29.233129  \n",
       "83                   NaN                None   4.726890  13.066767  \n",
       "\n",
       "[8 rows x 31 columns]"
      ]
     },
     "execution_count": 5,
     "metadata": {},
     "output_type": "execute_result"
    }
   ],
   "source": [
    "#visualizing the data\n",
    "print(\"Data Overview:\")\n",
    "df.head()         # First 5 rows\n",
    "df.tail()         # Last 5 rows\n",
    "df.sample(8)      # Random 5 rows\n"
   ]
  },
  {
   "cell_type": "markdown",
   "id": "2e6788c4",
   "metadata": {},
   "source": []
  },
  {
   "cell_type": "code",
   "execution_count": 1,
   "id": "d7d86045",
   "metadata": {},
   "outputs": [
    {
     "name": "stderr",
     "output_type": "stream",
     "text": [
      "/home/ahmedfahmy177/anaconda3/lib/python3.11/site-packages/matminer/utils/data.py:326: UserWarning: MagpieData(impute_nan=False):\n",
      "In a future release, impute_nan will be set to True by default.\n",
      "                    This means that features that are missing or are NaNs for elements\n",
      "                    from the data source will be replaced by the average of that value\n",
      "                    over the available elements.\n",
      "                    This avoids NaNs after featurization that are often replaced by\n",
      "                    dataset-dependent averages.\n",
      "  warnings.warn(f\"{self.__class__.__name__}(impute_nan=False):\\n\" + IMPUTE_NAN_WARNING)\n"
     ]
    },
    {
     "data": {
      "application/vnd.jupyter.widget-view+json": {
       "model_id": "18e1805b72f64115bda7e5eb36f49bbf",
       "version_major": 2,
       "version_minor": 0
      },
      "text/plain": [
       "ElementProperty:   0%|          | 0/55133 [00:00<?, ?it/s]"
      ]
     },
     "metadata": {},
     "output_type": "display_data"
    },
    {
     "name": "stdout",
     "output_type": "stream",
     "text": [
      "✅ Saved to: /home/ahmedfahmy177/Downloads/Erdos 2025/Data Collection/magnetic_insulators_with_polarizability.csv\n"
     ]
    }
   ],
   "source": [
    "import os\n",
    "import pandas as pd\n",
    "from pymatgen.core import Composition, Element\n",
    "from matminer.featurizers.composition import ElementProperty\n",
    "\n",
    "# Load your materials data\n",
    "df = pd.read_csv(\"magnetic_insulators.csv\")\n",
    "df = df.dropna(subset=[\"formula\"])  # remove rows without formula\n",
    "\n",
    "# === 1. Compute mean electronegativity ===\n",
    "df[\"composition_obj\"] = df[\"formula\"].apply(Composition)\n",
    "ep = ElementProperty(features=[\"Electronegativity\"], stats=[\"mean\"], data_source=\"magpie\")\n",
    "df = ep.featurize_dataframe(df, col_id=\"composition_obj\")\n",
    "df = df.rename(columns={\"mean Electronegativity\": \"mean_electronegativity\"})\n",
    "\n",
    "# === 2. Compute mean dipole polarizability ===\n",
    "def mean_polarizability(comp):\n",
    "    try:\n",
    "        composition = Composition(comp)\n",
    "        total = 0.0\n",
    "        total_atoms = 0\n",
    "        for el, amt in composition.get_el_amt_dict().items():\n",
    "            element = Element(el)\n",
    "            polar = element.polarizability\n",
    "            if polar is None:\n",
    "                return None\n",
    "            total += polar * amt\n",
    "            total_atoms += amt\n",
    "        return total / total_atoms if total_atoms else None\n",
    "    except:\n",
    "        return None\n",
    "\n",
    "df[\"mean_polarizability\"] = df[\"formula\"].apply(mean_polarizability)\n",
    "\n",
    "# === 3. Save in same folder ===\n",
    "output_path = os.path.join(os.getcwd(), \"magnetic_insulators_with_polarizability.csv\")\n",
    "df.to_csv(output_path, index=False)\n",
    "print(f\"✅ Saved to: {output_path}\")\n"
   ]
  },
  {
   "cell_type": "code",
   "execution_count": null,
   "id": "675b0469",
   "metadata": {},
   "outputs": [],
   "source": []
  }
 ],
 "metadata": {
  "kernelspec": {
   "display_name": "base",
   "language": "python",
   "name": "python3"
  },
  "language_info": {
   "codemirror_mode": {
    "name": "ipython",
    "version": 3
   },
   "file_extension": ".py",
   "mimetype": "text/x-python",
   "name": "python",
   "nbconvert_exporter": "python",
   "pygments_lexer": "ipython3",
   "version": "3.11.7"
  }
 },
 "nbformat": 4,
 "nbformat_minor": 5
}
